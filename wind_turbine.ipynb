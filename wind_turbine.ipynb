{
 "cells": [
  {
   "cell_type": "markdown",
   "metadata": {},
   "source": [
    "# WIND TURBINE DATA ANALYSIS"
   ]
  },
  {
   "cell_type": "markdown",
   "metadata": {},
   "source": [
    "## PART 0: IMPORT LIBRARIES"
   ]
  },
  {
   "cell_type": "code",
   "execution_count": 37,
   "metadata": {},
   "outputs": [],
   "source": [
    "import pandas as pd\n",
    "import numpy as np\n",
    "import os\n",
    "import matplotlib.pyplot as plt\n",
    "import seaborn as sns\n",
    "%matplotlib inline"
   ]
  },
  {
   "cell_type": "markdown",
   "metadata": {},
   "source": [
    "## PART I: IMPORT DATA"
   ]
  },
  {
   "cell_type": "code",
   "execution_count": 2,
   "metadata": {},
   "outputs": [],
   "source": [
    "cwd = os.getcwd()\n",
    "data_wd = cwd + '/data/la-haute-borne-data-2013-2016.csv'\n",
    "data = pd.read_csv(data_wd,sep=';')"
   ]
  },
  {
   "cell_type": "code",
   "execution_count": 3,
   "metadata": {},
   "outputs": [
    {
     "data": {
      "text/html": [
       "<div>\n",
       "<style scoped>\n",
       "    .dataframe tbody tr th:only-of-type {\n",
       "        vertical-align: middle;\n",
       "    }\n",
       "\n",
       "    .dataframe tbody tr th {\n",
       "        vertical-align: top;\n",
       "    }\n",
       "\n",
       "    .dataframe thead th {\n",
       "        text-align: right;\n",
       "    }\n",
       "</style>\n",
       "<table border=\"1\" class=\"dataframe\">\n",
       "  <thead>\n",
       "    <tr style=\"text-align: right;\">\n",
       "      <th></th>\n",
       "      <th>Wind_turbine_name</th>\n",
       "      <th>Date_time</th>\n",
       "      <th>Ba_avg</th>\n",
       "      <th>Ba_min</th>\n",
       "      <th>Ba_max</th>\n",
       "      <th>Ba_std</th>\n",
       "      <th>Rt_avg</th>\n",
       "      <th>Rt_min</th>\n",
       "      <th>Rt_max</th>\n",
       "      <th>Rt_std</th>\n",
       "      <th>...</th>\n",
       "      <th>Pas_max</th>\n",
       "      <th>Pas_std</th>\n",
       "      <th>Wa_c_avg</th>\n",
       "      <th>Wa_c_min</th>\n",
       "      <th>Wa_c_max</th>\n",
       "      <th>Wa_c_std</th>\n",
       "      <th>Na_c_avg</th>\n",
       "      <th>Na_c_min</th>\n",
       "      <th>Na_c_max</th>\n",
       "      <th>Na_c_std</th>\n",
       "    </tr>\n",
       "  </thead>\n",
       "  <tbody>\n",
       "    <tr>\n",
       "      <th>0</th>\n",
       "      <td>R80711</td>\n",
       "      <td>2014-09-25T09:40:00+02:00</td>\n",
       "      <td>-0.89</td>\n",
       "      <td>-0.99</td>\n",
       "      <td>0.00</td>\n",
       "      <td>0.28</td>\n",
       "      <td>18.150000</td>\n",
       "      <td>18.0</td>\n",
       "      <td>19.000000</td>\n",
       "      <td>0.27</td>\n",
       "      <td>...</td>\n",
       "      <td>NaN</td>\n",
       "      <td>NaN</td>\n",
       "      <td>289.97000</td>\n",
       "      <td>NaN</td>\n",
       "      <td>NaN</td>\n",
       "      <td>NaN</td>\n",
       "      <td>300.07999</td>\n",
       "      <td>NaN</td>\n",
       "      <td>NaN</td>\n",
       "      <td>NaN</td>\n",
       "    </tr>\n",
       "    <tr>\n",
       "      <th>1</th>\n",
       "      <td>R80711</td>\n",
       "      <td>2014-07-29T01:00:00+02:00</td>\n",
       "      <td>-0.99</td>\n",
       "      <td>-0.99</td>\n",
       "      <td>-0.99</td>\n",
       "      <td>0.00</td>\n",
       "      <td>23.010000</td>\n",
       "      <td>23.0</td>\n",
       "      <td>23.959999</td>\n",
       "      <td>0.07</td>\n",
       "      <td>...</td>\n",
       "      <td>NaN</td>\n",
       "      <td>NaN</td>\n",
       "      <td>249.77000</td>\n",
       "      <td>NaN</td>\n",
       "      <td>NaN</td>\n",
       "      <td>NaN</td>\n",
       "      <td>244.11000</td>\n",
       "      <td>NaN</td>\n",
       "      <td>NaN</td>\n",
       "      <td>NaN</td>\n",
       "    </tr>\n",
       "    <tr>\n",
       "      <th>2</th>\n",
       "      <td>R80711</td>\n",
       "      <td>2014-05-26T22:00:00+02:00</td>\n",
       "      <td>-0.99</td>\n",
       "      <td>-0.99</td>\n",
       "      <td>-0.99</td>\n",
       "      <td>0.00</td>\n",
       "      <td>22.000000</td>\n",
       "      <td>22.0</td>\n",
       "      <td>22.000000</td>\n",
       "      <td>0.00</td>\n",
       "      <td>...</td>\n",
       "      <td>NaN</td>\n",
       "      <td>NaN</td>\n",
       "      <td>239.24001</td>\n",
       "      <td>NaN</td>\n",
       "      <td>NaN</td>\n",
       "      <td>NaN</td>\n",
       "      <td>233.13000</td>\n",
       "      <td>NaN</td>\n",
       "      <td>NaN</td>\n",
       "      <td>NaN</td>\n",
       "    </tr>\n",
       "    <tr>\n",
       "      <th>3</th>\n",
       "      <td>R80711</td>\n",
       "      <td>2014-05-27T02:50:00+02:00</td>\n",
       "      <td>-0.99</td>\n",
       "      <td>-0.99</td>\n",
       "      <td>-0.99</td>\n",
       "      <td>0.00</td>\n",
       "      <td>20.389999</td>\n",
       "      <td>20.0</td>\n",
       "      <td>21.000000</td>\n",
       "      <td>0.41</td>\n",
       "      <td>...</td>\n",
       "      <td>NaN</td>\n",
       "      <td>NaN</td>\n",
       "      <td>257.63000</td>\n",
       "      <td>NaN</td>\n",
       "      <td>NaN</td>\n",
       "      <td>NaN</td>\n",
       "      <td>269.35001</td>\n",
       "      <td>NaN</td>\n",
       "      <td>NaN</td>\n",
       "      <td>NaN</td>\n",
       "    </tr>\n",
       "    <tr>\n",
       "      <th>4</th>\n",
       "      <td>R80711</td>\n",
       "      <td>2014-06-19T01:20:00+02:00</td>\n",
       "      <td>-0.99</td>\n",
       "      <td>-0.99</td>\n",
       "      <td>-0.99</td>\n",
       "      <td>0.00</td>\n",
       "      <td>23.010000</td>\n",
       "      <td>23.0</td>\n",
       "      <td>23.730000</td>\n",
       "      <td>0.05</td>\n",
       "      <td>...</td>\n",
       "      <td>NaN</td>\n",
       "      <td>NaN</td>\n",
       "      <td>13.18000</td>\n",
       "      <td>NaN</td>\n",
       "      <td>NaN</td>\n",
       "      <td>NaN</td>\n",
       "      <td>7.04000</td>\n",
       "      <td>NaN</td>\n",
       "      <td>NaN</td>\n",
       "      <td>NaN</td>\n",
       "    </tr>\n",
       "  </tbody>\n",
       "</table>\n",
       "<p>5 rows × 138 columns</p>\n",
       "</div>"
      ],
      "text/plain": [
       "  Wind_turbine_name                  Date_time  Ba_avg  Ba_min  Ba_max  \\\n",
       "0            R80711  2014-09-25T09:40:00+02:00   -0.89   -0.99    0.00   \n",
       "1            R80711  2014-07-29T01:00:00+02:00   -0.99   -0.99   -0.99   \n",
       "2            R80711  2014-05-26T22:00:00+02:00   -0.99   -0.99   -0.99   \n",
       "3            R80711  2014-05-27T02:50:00+02:00   -0.99   -0.99   -0.99   \n",
       "4            R80711  2014-06-19T01:20:00+02:00   -0.99   -0.99   -0.99   \n",
       "\n",
       "   Ba_std     Rt_avg  Rt_min     Rt_max  Rt_std    ...     Pas_max  Pas_std  \\\n",
       "0    0.28  18.150000    18.0  19.000000    0.27    ...         NaN      NaN   \n",
       "1    0.00  23.010000    23.0  23.959999    0.07    ...         NaN      NaN   \n",
       "2    0.00  22.000000    22.0  22.000000    0.00    ...         NaN      NaN   \n",
       "3    0.00  20.389999    20.0  21.000000    0.41    ...         NaN      NaN   \n",
       "4    0.00  23.010000    23.0  23.730000    0.05    ...         NaN      NaN   \n",
       "\n",
       "    Wa_c_avg  Wa_c_min  Wa_c_max  Wa_c_std   Na_c_avg  Na_c_min  Na_c_max  \\\n",
       "0  289.97000       NaN       NaN       NaN  300.07999       NaN       NaN   \n",
       "1  249.77000       NaN       NaN       NaN  244.11000       NaN       NaN   \n",
       "2  239.24001       NaN       NaN       NaN  233.13000       NaN       NaN   \n",
       "3  257.63000       NaN       NaN       NaN  269.35001       NaN       NaN   \n",
       "4   13.18000       NaN       NaN       NaN    7.04000       NaN       NaN   \n",
       "\n",
       "   Na_c_std  \n",
       "0       NaN  \n",
       "1       NaN  \n",
       "2       NaN  \n",
       "3       NaN  \n",
       "4       NaN  \n",
       "\n",
       "[5 rows x 138 columns]"
      ]
     },
     "execution_count": 3,
     "metadata": {},
     "output_type": "execute_result"
    }
   ],
   "source": [
    "data.head()"
   ]
  },
  {
   "cell_type": "markdown",
   "metadata": {},
   "source": [
    "## PART II: DATA CLEANING AND PREPROCESSING\n",
    "\n",
    "### CALENDAR FEATURES CREATION"
   ]
  },
  {
   "cell_type": "code",
   "execution_count": 4,
   "metadata": {},
   "outputs": [],
   "source": [
    "data['Date_time'] = pd.to_datetime(data['Date_time'])\n",
    "data.sort_values(by=['Date_time'], inplace=True, ascending=True)\n",
    "\n",
    "data['Year'] = data['Date_time'].dt.year\n",
    "data['Month'] = data['Date_time'].dt.month"
   ]
  },
  {
   "cell_type": "code",
   "execution_count": 5,
   "metadata": {},
   "outputs": [
    {
     "data": {
      "text/html": [
       "<div>\n",
       "<style scoped>\n",
       "    .dataframe tbody tr th:only-of-type {\n",
       "        vertical-align: middle;\n",
       "    }\n",
       "\n",
       "    .dataframe tbody tr th {\n",
       "        vertical-align: top;\n",
       "    }\n",
       "\n",
       "    .dataframe thead th {\n",
       "        text-align: right;\n",
       "    }\n",
       "</style>\n",
       "<table border=\"1\" class=\"dataframe\">\n",
       "  <thead>\n",
       "    <tr style=\"text-align: right;\">\n",
       "      <th></th>\n",
       "      <th>Wind_turbine_name</th>\n",
       "      <th>Date_time</th>\n",
       "      <th>Ba_avg</th>\n",
       "      <th>Ba_min</th>\n",
       "      <th>Ba_max</th>\n",
       "      <th>Ba_std</th>\n",
       "      <th>Rt_avg</th>\n",
       "      <th>Rt_min</th>\n",
       "      <th>Rt_max</th>\n",
       "      <th>Rt_std</th>\n",
       "      <th>...</th>\n",
       "      <th>Wa_c_avg</th>\n",
       "      <th>Wa_c_min</th>\n",
       "      <th>Wa_c_max</th>\n",
       "      <th>Wa_c_std</th>\n",
       "      <th>Na_c_avg</th>\n",
       "      <th>Na_c_min</th>\n",
       "      <th>Na_c_max</th>\n",
       "      <th>Na_c_std</th>\n",
       "      <th>Year</th>\n",
       "      <th>Month</th>\n",
       "    </tr>\n",
       "  </thead>\n",
       "  <tbody>\n",
       "    <tr>\n",
       "      <th>209184</th>\n",
       "      <td>R80711</td>\n",
       "      <td>2012-12-31 23:00:00</td>\n",
       "      <td>-1.00</td>\n",
       "      <td>-1.0</td>\n",
       "      <td>-1.0</td>\n",
       "      <td>0.0</td>\n",
       "      <td>12.76</td>\n",
       "      <td>12.0</td>\n",
       "      <td>13.0</td>\n",
       "      <td>0.36</td>\n",
       "      <td>...</td>\n",
       "      <td>180.25000</td>\n",
       "      <td>NaN</td>\n",
       "      <td>NaN</td>\n",
       "      <td>NaN</td>\n",
       "      <td>176.44000</td>\n",
       "      <td>NaN</td>\n",
       "      <td>NaN</td>\n",
       "      <td>NaN</td>\n",
       "      <td>2012</td>\n",
       "      <td>12</td>\n",
       "    </tr>\n",
       "    <tr>\n",
       "      <th>13935</th>\n",
       "      <td>R80711</td>\n",
       "      <td>2012-12-31 23:10:00</td>\n",
       "      <td>-1.00</td>\n",
       "      <td>-1.0</td>\n",
       "      <td>-1.0</td>\n",
       "      <td>0.0</td>\n",
       "      <td>12.71</td>\n",
       "      <td>12.0</td>\n",
       "      <td>13.0</td>\n",
       "      <td>0.38</td>\n",
       "      <td>...</td>\n",
       "      <td>183.28999</td>\n",
       "      <td>NaN</td>\n",
       "      <td>NaN</td>\n",
       "      <td>NaN</td>\n",
       "      <td>176.44000</td>\n",
       "      <td>NaN</td>\n",
       "      <td>NaN</td>\n",
       "      <td>NaN</td>\n",
       "      <td>2012</td>\n",
       "      <td>12</td>\n",
       "    </tr>\n",
       "    <tr>\n",
       "      <th>204824</th>\n",
       "      <td>R80711</td>\n",
       "      <td>2012-12-31 23:20:00</td>\n",
       "      <td>-1.00</td>\n",
       "      <td>-1.0</td>\n",
       "      <td>-1.0</td>\n",
       "      <td>0.0</td>\n",
       "      <td>12.81</td>\n",
       "      <td>12.0</td>\n",
       "      <td>13.0</td>\n",
       "      <td>0.31</td>\n",
       "      <td>...</td>\n",
       "      <td>185.08000</td>\n",
       "      <td>NaN</td>\n",
       "      <td>NaN</td>\n",
       "      <td>NaN</td>\n",
       "      <td>176.44000</td>\n",
       "      <td>NaN</td>\n",
       "      <td>NaN</td>\n",
       "      <td>NaN</td>\n",
       "      <td>2012</td>\n",
       "      <td>12</td>\n",
       "    </tr>\n",
       "    <tr>\n",
       "      <th>13931</th>\n",
       "      <td>R80711</td>\n",
       "      <td>2012-12-31 23:30:00</td>\n",
       "      <td>-1.00</td>\n",
       "      <td>-1.0</td>\n",
       "      <td>-1.0</td>\n",
       "      <td>0.0</td>\n",
       "      <td>12.70</td>\n",
       "      <td>12.0</td>\n",
       "      <td>13.0</td>\n",
       "      <td>0.38</td>\n",
       "      <td>...</td>\n",
       "      <td>190.33000</td>\n",
       "      <td>NaN</td>\n",
       "      <td>NaN</td>\n",
       "      <td>NaN</td>\n",
       "      <td>188.41000</td>\n",
       "      <td>NaN</td>\n",
       "      <td>NaN</td>\n",
       "      <td>NaN</td>\n",
       "      <td>2012</td>\n",
       "      <td>12</td>\n",
       "    </tr>\n",
       "    <tr>\n",
       "      <th>203</th>\n",
       "      <td>R80711</td>\n",
       "      <td>2012-12-31 23:40:00</td>\n",
       "      <td>-0.98</td>\n",
       "      <td>-1.0</td>\n",
       "      <td>-0.5</td>\n",
       "      <td>0.1</td>\n",
       "      <td>12.40</td>\n",
       "      <td>12.0</td>\n",
       "      <td>13.0</td>\n",
       "      <td>0.41</td>\n",
       "      <td>...</td>\n",
       "      <td>188.07001</td>\n",
       "      <td>NaN</td>\n",
       "      <td>NaN</td>\n",
       "      <td>NaN</td>\n",
       "      <td>192.89999</td>\n",
       "      <td>NaN</td>\n",
       "      <td>NaN</td>\n",
       "      <td>NaN</td>\n",
       "      <td>2012</td>\n",
       "      <td>12</td>\n",
       "    </tr>\n",
       "  </tbody>\n",
       "</table>\n",
       "<p>5 rows × 140 columns</p>\n",
       "</div>"
      ],
      "text/plain": [
       "       Wind_turbine_name           Date_time  Ba_avg  Ba_min  Ba_max  Ba_std  \\\n",
       "209184            R80711 2012-12-31 23:00:00   -1.00    -1.0    -1.0     0.0   \n",
       "13935             R80711 2012-12-31 23:10:00   -1.00    -1.0    -1.0     0.0   \n",
       "204824            R80711 2012-12-31 23:20:00   -1.00    -1.0    -1.0     0.0   \n",
       "13931             R80711 2012-12-31 23:30:00   -1.00    -1.0    -1.0     0.0   \n",
       "203               R80711 2012-12-31 23:40:00   -0.98    -1.0    -0.5     0.1   \n",
       "\n",
       "        Rt_avg  Rt_min  Rt_max  Rt_std  ...     Wa_c_avg  Wa_c_min  Wa_c_max  \\\n",
       "209184   12.76    12.0    13.0    0.36  ...    180.25000       NaN       NaN   \n",
       "13935    12.71    12.0    13.0    0.38  ...    183.28999       NaN       NaN   \n",
       "204824   12.81    12.0    13.0    0.31  ...    185.08000       NaN       NaN   \n",
       "13931    12.70    12.0    13.0    0.38  ...    190.33000       NaN       NaN   \n",
       "203      12.40    12.0    13.0    0.41  ...    188.07001       NaN       NaN   \n",
       "\n",
       "        Wa_c_std   Na_c_avg  Na_c_min  Na_c_max  Na_c_std  Year  Month  \n",
       "209184       NaN  176.44000       NaN       NaN       NaN  2012     12  \n",
       "13935        NaN  176.44000       NaN       NaN       NaN  2012     12  \n",
       "204824       NaN  176.44000       NaN       NaN       NaN  2012     12  \n",
       "13931        NaN  188.41000       NaN       NaN       NaN  2012     12  \n",
       "203          NaN  192.89999       NaN       NaN       NaN  2012     12  \n",
       "\n",
       "[5 rows x 140 columns]"
      ]
     },
     "execution_count": 5,
     "metadata": {},
     "output_type": "execute_result"
    }
   ],
   "source": [
    "data.head()"
   ]
  },
  {
   "cell_type": "markdown",
   "metadata": {},
   "source": [
    "### MISSING VALUES TREATMENT\n",
    "Plot of missing value count for each column of the dataframe. Columns with a number of missing values above a critical limit will be dropped. Columns with a reasonable number of NaN will be kept. Every row with one or more missing value will be dropped. For this analysis, it is not strictly mandatory to keep all the available features, yet for more sophisticated analysis there is a subtle trade-off:\n",
    "* keep a large number of sample, dropping most of the features with the largest number of NaN\n",
    "* keep as many features as you can, so that you don't lose pieces of information. In this case, you accept to lose more data samples, since more rows will be affected by NaN.\n",
    "\n",
    "The replacement of NaN values with other values, such as average/median or other statistical approaches, is not recommended in this case. If you are going to build a physical models, or even a machine learning model with the aim of describing a physical sistem like a WTG, it is better to avoid heavy manipulation procedures. The identification of patterns of features can be negatively affected in this case. Better to lose weak data sample than add in your analysis unphysical data samples."
   ]
  },
  {
   "cell_type": "code",
   "execution_count": 6,
   "metadata": {},
   "outputs": [
    {
     "data": {
      "image/png": "[encoded data removed]",
      "text/plain": [
       "<Figure size 1440x216 with 1 Axes>"
      ]
     },
     "metadata": {},
     "output_type": "display_data"
    }
   ],
   "source": [
    "plt.figure(figsize=(20,3))\n",
    "plt.plot(data.isnull().sum(axis = 0))\n",
    "plt.xticks(rotation=90)\n",
    "plt.margins(x=0)\n",
    "plt.show()"
   ]
  },
  {
   "cell_type": "code",
   "execution_count": 7,
   "metadata": {},
   "outputs": [
    {
     "name": "stdout",
     "output_type": "stream",
     "text": [
      "List of columns deleted because of NaN count exceeds maximum threshold\n",
      "['Va1_avg', 'Va1_min', 'Va1_max', 'Va1_std', 'Va2_avg', 'Va2_min', 'Va2_max', 'Va2_std', 'Pas_avg', 'Pas_min', 'Pas_max', 'Pas_std', 'Wa_c_min', 'Wa_c_max', 'Wa_c_std', 'Na_c_min', 'Na_c_max', 'Na_c_std']\n"
     ]
    }
   ],
   "source": [
    "print('List of columns deleted because of NaN count exceeds maximum threshold')\n",
    "print(list(data.loc[:,data.isnull().sum(axis = 0) > 10000].columns))"
   ]
  },
  {
   "cell_type": "code",
   "execution_count": 8,
   "metadata": {},
   "outputs": [],
   "source": [
    "df = data.loc[:,data.isnull().sum(axis = 0) < 10000]"
   ]
  },
  {
   "cell_type": "code",
   "execution_count": 9,
   "metadata": {},
   "outputs": [
    {
     "data": {
      "text/html": [
       "<div>\n",
       "<style scoped>\n",
       "    .dataframe tbody tr th:only-of-type {\n",
       "        vertical-align: middle;\n",
       "    }\n",
       "\n",
       "    .dataframe tbody tr th {\n",
       "        vertical-align: top;\n",
       "    }\n",
       "\n",
       "    .dataframe thead th {\n",
       "        text-align: right;\n",
       "    }\n",
       "</style>\n",
       "<table border=\"1\" class=\"dataframe\">\n",
       "  <thead>\n",
       "    <tr style=\"text-align: right;\">\n",
       "      <th></th>\n",
       "      <th>Wind_turbine_name</th>\n",
       "      <th>Date_time</th>\n",
       "      <th>Ba_avg</th>\n",
       "      <th>Ba_min</th>\n",
       "      <th>Ba_max</th>\n",
       "      <th>Ba_std</th>\n",
       "      <th>Rt_avg</th>\n",
       "      <th>Rt_min</th>\n",
       "      <th>Rt_max</th>\n",
       "      <th>Rt_std</th>\n",
       "      <th>...</th>\n",
       "      <th>Rbt_max</th>\n",
       "      <th>Rbt_std</th>\n",
       "      <th>Rm_avg</th>\n",
       "      <th>Rm_min</th>\n",
       "      <th>Rm_max</th>\n",
       "      <th>Rm_std</th>\n",
       "      <th>Wa_c_avg</th>\n",
       "      <th>Na_c_avg</th>\n",
       "      <th>Year</th>\n",
       "      <th>Month</th>\n",
       "    </tr>\n",
       "  </thead>\n",
       "  <tbody>\n",
       "    <tr>\n",
       "      <th>209184</th>\n",
       "      <td>R80711</td>\n",
       "      <td>2012-12-31 23:00:00</td>\n",
       "      <td>-1.00</td>\n",
       "      <td>-1.0</td>\n",
       "      <td>-1.0</td>\n",
       "      <td>0.0</td>\n",
       "      <td>12.76</td>\n",
       "      <td>12.0</td>\n",
       "      <td>13.0</td>\n",
       "      <td>0.36</td>\n",
       "      <td>...</td>\n",
       "      <td>28.799999</td>\n",
       "      <td>0.03</td>\n",
       "      <td>5690.2798</td>\n",
       "      <td>4037.4900</td>\n",
       "      <td>7382.7202</td>\n",
       "      <td>612.64001</td>\n",
       "      <td>180.25000</td>\n",
       "      <td>176.44000</td>\n",
       "      <td>2012</td>\n",
       "      <td>12</td>\n",
       "    </tr>\n",
       "    <tr>\n",
       "      <th>13935</th>\n",
       "      <td>R80711</td>\n",
       "      <td>2012-12-31 23:10:00</td>\n",
       "      <td>-1.00</td>\n",
       "      <td>-1.0</td>\n",
       "      <td>-1.0</td>\n",
       "      <td>0.0</td>\n",
       "      <td>12.71</td>\n",
       "      <td>12.0</td>\n",
       "      <td>13.0</td>\n",
       "      <td>0.38</td>\n",
       "      <td>...</td>\n",
       "      <td>28.750000</td>\n",
       "      <td>0.01</td>\n",
       "      <td>5632.7202</td>\n",
       "      <td>3579.1001</td>\n",
       "      <td>7386.1099</td>\n",
       "      <td>746.62000</td>\n",
       "      <td>183.28999</td>\n",
       "      <td>176.44000</td>\n",
       "      <td>2012</td>\n",
       "      <td>12</td>\n",
       "    </tr>\n",
       "    <tr>\n",
       "      <th>204824</th>\n",
       "      <td>R80711</td>\n",
       "      <td>2012-12-31 23:20:00</td>\n",
       "      <td>-1.00</td>\n",
       "      <td>-1.0</td>\n",
       "      <td>-1.0</td>\n",
       "      <td>0.0</td>\n",
       "      <td>12.81</td>\n",
       "      <td>12.0</td>\n",
       "      <td>13.0</td>\n",
       "      <td>0.31</td>\n",
       "      <td>...</td>\n",
       "      <td>28.799999</td>\n",
       "      <td>0.03</td>\n",
       "      <td>6071.6899</td>\n",
       "      <td>4231.8799</td>\n",
       "      <td>8059.7798</td>\n",
       "      <td>853.60999</td>\n",
       "      <td>185.08000</td>\n",
       "      <td>176.44000</td>\n",
       "      <td>2012</td>\n",
       "      <td>12</td>\n",
       "    </tr>\n",
       "    <tr>\n",
       "      <th>13931</th>\n",
       "      <td>R80711</td>\n",
       "      <td>2012-12-31 23:30:00</td>\n",
       "      <td>-1.00</td>\n",
       "      <td>-1.0</td>\n",
       "      <td>-1.0</td>\n",
       "      <td>0.0</td>\n",
       "      <td>12.70</td>\n",
       "      <td>12.0</td>\n",
       "      <td>13.0</td>\n",
       "      <td>0.38</td>\n",
       "      <td>...</td>\n",
       "      <td>29.000000</td>\n",
       "      <td>0.07</td>\n",
       "      <td>6279.4702</td>\n",
       "      <td>4090.2900</td>\n",
       "      <td>8978.8799</td>\n",
       "      <td>1022.31000</td>\n",
       "      <td>190.33000</td>\n",
       "      <td>188.41000</td>\n",
       "      <td>2012</td>\n",
       "      <td>12</td>\n",
       "    </tr>\n",
       "    <tr>\n",
       "      <th>203</th>\n",
       "      <td>R80711</td>\n",
       "      <td>2012-12-31 23:40:00</td>\n",
       "      <td>-0.98</td>\n",
       "      <td>-1.0</td>\n",
       "      <td>-0.5</td>\n",
       "      <td>0.1</td>\n",
       "      <td>12.40</td>\n",
       "      <td>12.0</td>\n",
       "      <td>13.0</td>\n",
       "      <td>0.41</td>\n",
       "      <td>...</td>\n",
       "      <td>28.900000</td>\n",
       "      <td>0.05</td>\n",
       "      <td>6988.5698</td>\n",
       "      <td>4366.8901</td>\n",
       "      <td>9823.5400</td>\n",
       "      <td>1135.03000</td>\n",
       "      <td>188.07001</td>\n",
       "      <td>192.89999</td>\n",
       "      <td>2012</td>\n",
       "      <td>12</td>\n",
       "    </tr>\n",
       "  </tbody>\n",
       "</table>\n",
       "<p>5 rows × 122 columns</p>\n",
       "</div>"
      ],
      "text/plain": [
       "       Wind_turbine_name           Date_time  Ba_avg  Ba_min  Ba_max  Ba_std  \\\n",
       "209184            R80711 2012-12-31 23:00:00   -1.00    -1.0    -1.0     0.0   \n",
       "13935             R80711 2012-12-31 23:10:00   -1.00    -1.0    -1.0     0.0   \n",
       "204824            R80711 2012-12-31 23:20:00   -1.00    -1.0    -1.0     0.0   \n",
       "13931             R80711 2012-12-31 23:30:00   -1.00    -1.0    -1.0     0.0   \n",
       "203               R80711 2012-12-31 23:40:00   -0.98    -1.0    -0.5     0.1   \n",
       "\n",
       "        Rt_avg  Rt_min  Rt_max  Rt_std  ...      Rbt_max  Rbt_std     Rm_avg  \\\n",
       "209184   12.76    12.0    13.0    0.36  ...    28.799999     0.03  5690.2798   \n",
       "13935    12.71    12.0    13.0    0.38  ...    28.750000     0.01  5632.7202   \n",
       "204824   12.81    12.0    13.0    0.31  ...    28.799999     0.03  6071.6899   \n",
       "13931    12.70    12.0    13.0    0.38  ...    29.000000     0.07  6279.4702   \n",
       "203      12.40    12.0    13.0    0.41  ...    28.900000     0.05  6988.5698   \n",
       "\n",
       "           Rm_min     Rm_max      Rm_std   Wa_c_avg   Na_c_avg  Year  Month  \n",
       "209184  4037.4900  7382.7202   612.64001  180.25000  176.44000  2012     12  \n",
       "13935   3579.1001  7386.1099   746.62000  183.28999  176.44000  2012     12  \n",
       "204824  4231.8799  8059.7798   853.60999  185.08000  176.44000  2012     12  \n",
       "13931   4090.2900  8978.8799  1022.31000  190.33000  188.41000  2012     12  \n",
       "203     4366.8901  9823.5400  1135.03000  188.07001  192.89999  2012     12  \n",
       "\n",
       "[5 rows x 122 columns]"
      ]
     },
     "execution_count": 9,
     "metadata": {},
     "output_type": "execute_result"
    }
   ],
   "source": [
    "df.head()"
   ]
  },
  {
   "cell_type": "code",
   "execution_count": 10,
   "metadata": {},
   "outputs": [
    {
     "data": {
      "text/plain": [
       "210095"
      ]
     },
     "execution_count": 10,
     "metadata": {},
     "output_type": "execute_result"
    }
   ],
   "source": [
    "df.shape[0]"
   ]
  },
  {
   "cell_type": "code",
   "execution_count": 11,
   "metadata": {},
   "outputs": [
    {
     "data": {
      "text/plain": [
       "201867"
      ]
     },
     "execution_count": 11,
     "metadata": {},
     "output_type": "execute_result"
    }
   ],
   "source": [
    "df_no_na = df.dropna()\n",
    "df_no_na.shape[0]"
   ]
  },
  {
   "cell_type": "markdown",
   "metadata": {},
   "source": [
    "### FILTERING IDLE/SHUTDOWN/STARTUP\n",
    "\n",
    "Any model or statistical analysis you want to build must keep into account normal-condition operating data. In our case, it is not correct to include samples referred to operating conditions far from the normal working range of a wind turbine. A simple way to filter unuseful data samples is proposed, base on three main features:\n",
    "* Power Output (kW). It must be above 0 kW and below the maximum rated power (in this example 2050kW). Check on manufacturer specifics to get the correct nominal power. It seems obvious, but it is common to find unphysical values of power output that can have a huge impact on your analysis.\n",
    "* Wind Speed (m/s). In this notebook we are going to evaluate turbine performance. Hence, we need to exclude all those points that don't bring actual power output. For this reason, too low wind speed (cut in limit) and too high wind speed (cut off limit) must be excluded.\n",
    "* Pitch angle (°). Pitch angle is an indicator of the position of turbine blades with respect to wind direction. In  normal operating condition, this angle is very low and slightly negative (from -5° to - 0°). Values far from these limits refer to particular conditions that must be excluded from future analysis."
   ]
  },
  {
   "cell_type": "code",
   "execution_count": 85,
   "metadata": {},
   "outputs": [
    {
     "data": {
      "image/png": "[encoded data removed]",
      "text/plain": [
       "<Figure size 432x288 with 1 Axes>"
      ]
     },
     "metadata": {},
     "output_type": "display_data"
    }
   ],
   "source": [
    "plt.hist(df_no_na['Ba_avg'],bins = 20, edgecolor = 'black', linewidth = 1.5)\n",
    "plt.show()"
   ]
  },
  {
   "cell_type": "code",
   "execution_count": 86,
   "metadata": {},
   "outputs": [
    {
     "data": {
      "image/png": "[encoded data removed]",
      "text/plain": [
       "<Figure size 432x288 with 1 Axes>"
      ]
     },
     "metadata": {},
     "output_type": "display_data"
    }
   ],
   "source": [
    "plt.hist(df_no_na['Ws_avg'],bins = 20, edgecolor = 'black', linewidth = 1.5)\n",
    "plt.show()"
   ]
  },
  {
   "cell_type": "code",
   "execution_count": 87,
   "metadata": {},
   "outputs": [
    {
     "data": {
      "image/png": "[encoded data removed]",
      "text/plain": [
       "<Figure size 432x288 with 1 Axes>"
      ]
     },
     "metadata": {},
     "output_type": "display_data"
    }
   ],
   "source": [
    "plt.hist(df_no_na['P_avg'],bins = 20, edgecolor = 'black', linewidth = 1.5)\n",
    "plt.show()"
   ]
  },
  {
   "cell_type": "code",
   "execution_count": 15,
   "metadata": {},
   "outputs": [
    {
     "data": {
      "text/plain": [
       "159329"
      ]
     },
     "execution_count": 15,
     "metadata": {},
     "output_type": "execute_result"
    }
   ],
   "source": [
    "df_clean = df_no_na[df_no_na['Ws_avg']>3]\n",
    "df_clean = df_clean[df_clean['Ws_avg'] < 25]\n",
    "df_clean = df_clean[df_clean['Ba_avg'] < 5]\n",
    "df_clean = df_clean[df_clean['Ba_avg'] > -5]\n",
    "df_clean.shape[0]"
   ]
  },
  {
   "cell_type": "code",
   "execution_count": 88,
   "metadata": {},
   "outputs": [
    {
     "data": {
      "image/png": "[encoded data removed]",
      "text/plain": [
       "<Figure size 432x288 with 1 Axes>"
      ]
     },
     "metadata": {},
     "output_type": "display_data"
    }
   ],
   "source": [
    "plt.hist(df_clean['Ba_avg'],bins = 20, edgecolor = 'black', linewidth = 1.5)\n",
    "plt.show()"
   ]
  },
  {
   "cell_type": "markdown",
   "metadata": {},
   "source": [
    "# PART III: POWER OUTPUT CALCULATION"
   ]
  },
  {
   "cell_type": "code",
   "execution_count": 24,
   "metadata": {},
   "outputs": [],
   "source": [
    "df_clean['E_avg'] = df_clean['P_avg'] / 6000 # from kW to MWh\n",
    "df_energy = pd.DataFrame(df_clean.groupby(['Year', 'Month'])['E_avg'].apply(lambda x : x.sum()))\n",
    "df_energy.reset_index(inplace=True)"
   ]
  },
  {
   "cell_type": "code",
   "execution_count": 96,
   "metadata": {},
   "outputs": [
    {
     "data": {
      "image/png": "[encoded data removed]",
      "text/plain": [
       "<Figure size 720x360 with 1 Axes>"
      ]
     },
     "metadata": {},
     "output_type": "display_data"
    }
   ],
   "source": [
    "fig, ax = plt.subplots()\n",
    "fig.set_size_inches(10, 5)\n",
    "#sns.catplot(x=\"Month\", y=\"E_avg\", hue=\"Year\", kind=\"point\", data=df_energy, ax = ax, aspect = 1)\n",
    "sns.scatterplot(x=\"Month\", y=\"E_avg\", hue = 'Year', data=df_energy, s = 75, ax = ax, palette = \"Set3\", edgecolor = 'black')\n",
    "plt.close(2)"
   ]
  },
  {
   "cell_type": "code",
   "execution_count": 43,
   "metadata": {},
   "outputs": [],
   "source": [
    "df_energy_boxplot = df_energy[df_energy.E_avg > 10]"
   ]
  },
  {
   "cell_type": "code",
   "execution_count": 44,
   "metadata": {},
   "outputs": [
    {
     "data": {
      "image/png": "[encoded data removed]",
      "text/plain": [
       "<Figure size 720x360 with 1 Axes>"
      ]
     },
     "metadata": {},
     "output_type": "display_data"
    }
   ],
   "source": [
    "fig, ax = plt.subplots()\n",
    "fig.set_size_inches(10, 5)\n",
    "sns.catplot(x=\"Month\", y=\"E_avg\", kind=\"box\", data=df_energy_boxplot, ax = ax)\n",
    "plt.close(2)"
   ]
  },
  {
   "cell_type": "markdown",
   "metadata": {},
   "source": [
    "## PART IV: CAPACITY FACTORY ESTIMATION"
   ]
  },
  {
   "cell_type": "code",
   "execution_count": 45,
   "metadata": {},
   "outputs": [],
   "source": [
    "P_nom = 2050 # kW | nominal power\n",
    "df_clean['Cf_avg'] = df_clean['P_avg'] / P_nom # from kW to CF\n",
    "df_cf = pd.DataFrame(df_clean.groupby(['Year', 'Month'])['Cf_avg'].apply(lambda x : x.mean()))\n",
    "df_cf.reset_index(inplace=True)"
   ]
  },
  {
   "cell_type": "code",
   "execution_count": 99,
   "metadata": {},
   "outputs": [
    {
     "data": {
      "image/png": "[encoded data removed]",
      "text/plain": [
       "<Figure size 720x360 with 1 Axes>"
      ]
     },
     "metadata": {},
     "output_type": "display_data"
    }
   ],
   "source": [
    "df_cf_boxplot = df_cf[(df_cf.Cf_avg > 0.05) & (df_cf.Cf_avg < 0.5)]\n",
    "\n",
    "fig, ax = plt.subplots()\n",
    "fig.set_size_inches(10, 5)\n",
    "sns.scatterplot(x=\"Month\", y=\"Cf_avg\", hue = 'Year', data=df_cf_boxplot, s = 75, ax = ax, palette = \"Set3\", edgecolor = 'black')\n",
    "plt.close(2)"
   ]
  },
  {
   "cell_type": "code",
   "execution_count": 72,
   "metadata": {},
   "outputs": [
    {
     "data": {
      "image/png": "[encoded data removed]",
      "text/plain": [
       "<Figure size 720x360 with 1 Axes>"
      ]
     },
     "metadata": {},
     "output_type": "display_data"
    }
   ],
   "source": [
    "fig, ax = plt.subplots()\n",
    "fig.set_size_inches(10, 5)\n",
    "sns.catplot(x=\"Year\", y=\"Cf_avg\", kind = 'box', data=df_cf_boxplot, ax = ax)\n",
    "plt.close(2)"
   ]
  },
  {
   "cell_type": "code",
   "execution_count": null,
   "metadata": {},
   "outputs": [],
   "source": []
  }
 ],
 "metadata": {
  "kernelspec": {
   "display_name": "Python 3",
   "language": "python",
   "name": "python3"
  },
  "language_info": {
   "codemirror_mode": {
    "name": "ipython",
    "version": 3
   },
   "file_extension": ".py",
   "mimetype": "text/x-python",
   "name": "python",
   "nbconvert_exporter": "python",
   "pygments_lexer": "ipython3",
   "version": "3.6.5"
  }
 },
 "nbformat": 4,
 "nbformat_minor": 2
}
